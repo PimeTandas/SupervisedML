{
 "cells": [
  {
   "cell_type": "markdown",
   "id": "d26f10e0",
   "metadata": {},
   "source": [
    "### Multi-variant Linear Regression Analysis, Regression Model"
   ]
  },
  {
   "cell_type": "code",
   "execution_count": 9,
   "id": "b2c0226e",
   "metadata": {},
   "outputs": [],
   "source": [
    "# Usual Imports\n",
    "import numpy as np \n",
    "import time"
   ]
  },
  {
   "cell_type": "code",
   "execution_count": 12,
   "id": "1677a7c9",
   "metadata": {},
   "outputs": [
    {
     "name": "stdout",
     "output_type": "stream",
     "text": [
      "np.zeros(4): a = [0. 0. 0. 0.], a.shape = (4,), a data type = float64\n",
      "np.zeros((4,)): a = [0. 0. 0. 0.], a.shape = (4,), a data type = float64\n",
      "np.random.random_sample(4): a = [0.28468855 0.62932324 0.52452965 0.63475492], a.shape = (4,), a data type = float64\n",
      "np.arrange(4), [0 1 2 3] a.shape = (4,), a data type = int32\n",
      "np.random.randn(4), [-0.02387231 -0.03797087 -0.0096869   0.55262132] a.shape = (4,), a data type = float64\n",
      "np.array([1,2,3,4]), [1 2 3 4] a.shape = (4,), a data type = int32\n"
     ]
    }
   ],
   "source": [
    "\"\"\"\n",
    "Vector creation.\n",
    "\n",
    "These all create a one dimensional vector (a), each with four elements. This is seen through the use of \n",
    "a.shape.\n",
    "\"\"\"\n",
    "\n",
    "a = np.zeros(4); print(f\"np.zeros(4): a = {a}, a.shape = {a.shape}, a data type = {a.dtype}\")\n",
    "\n",
    "a = np.zeros((4,)); print(f\"np.zeros((4,)): a = {a}, a.shape = {a.shape}, a data type = {a.dtype}\")\n",
    "\n",
    "a = np.random.random_sample(4); print(f\"np.random.random_sample(4): a = {a}, a.shape = {a.shape}, a data type = {a.dtype}\")\n",
    "\n",
    "# Some data creation routines do not take a tuple, such as:\n",
    "a = np.arange(4); print(f\"np.arrange(4), {a} a.shape = {a.shape}, a data type = {a.dtype}\")\n",
    "\n",
    "a = np.random.randn(4); print(f\"np.random.randn(4), {a} a.shape = {a.shape}, a data type = {a.dtype}\")\n",
    "\n",
    "# Finally values can also be specified manually too:\n",
    "a = np.array([1,2,3,4]); print(f\"np.array([1,2,3,4]), {a} a.shape = {a.shape}, a data type = {a.dtype}\")"
   ]
  },
  {
   "cell_type": "code",
   "execution_count": 17,
   "id": "ffb21080",
   "metadata": {},
   "outputs": [
    {
     "name": "stdout",
     "output_type": "stream",
     "text": [
      "[0 1 2 3 4 5 6 7 8 9]\n",
      "a[2] = 2\n",
      "a[-1] = 9\n",
      "The error message you will see:\n",
      "index 10 is out of bounds for axis 0 with size 10\n"
     ]
    }
   ],
   "source": [
    "\"\"\"\n",
    "Operations on vectors.\n",
    "- Indexing\n",
    "\"\"\"\n",
    "# Data creation\n",
    "a = np.arange(10); print(a)\n",
    "# Access an element \n",
    "print(f\"a[2] = {a[2]}\")\n",
    "# Accessing the last element, negitive indexing works from the end\n",
    "print(f\"a[-1] = {a[-1]}\")\n",
    "# Indexs must be within the range of the vector or will return an error\n",
    "try:\n",
    "    c = a[10]\n",
    "except Exception as e:\n",
    "    print(\"The error message you will see:\")\n",
    "    print(e)"
   ]
  },
  {
   "cell_type": "code",
   "execution_count": 27,
   "id": "eb6ff3e5",
   "metadata": {},
   "outputs": [
    {
     "name": "stdout",
     "output_type": "stream",
     "text": [
      "a = [0 1 2 3 4 5 6 7 8 9]\n",
      "a[2:7:1] = [2 3 4 5 6]\n",
      "a[2:7:2] = [2 4 6]\n",
      "a[3:] = [3 4 5 6 7 8 9]\n",
      "a[:3] = [0 1 2]\n",
      "a[:] = [0 1 2 3 4 5 6 7 8 9]\n"
     ]
    }
   ],
   "source": [
    "\"\"\"\n",
    "Operations on vectors.\n",
    "- Slicing\n",
    "\"\"\"\n",
    "# Data creation\n",
    "a = np.arange(10); print(f\"a = {a}\")\n",
    "# Access 5 consecutive elements (START:STOP:STEP)\n",
    "print(f\"a[2:7:1] = {a[2:7:1]}\")\n",
    "# Access 3 elements seperated by 2\n",
    "print(f\"a[2:7:2] = {a[2:7:2]}\")\n",
    "# Access all elements index 3 and above\n",
    "print(f\"a[3:] = {a[3:]}\")\n",
    "# Access all elements below 3\n",
    "print(f\"a[:3] = {a[:3]}\")\n",
    "# Access all elements \n",
    "print(f\"a[:] = {a[:]}\")"
   ]
  },
  {
   "cell_type": "code",
   "execution_count": 35,
   "id": "f01f9f6a",
   "metadata": {},
   "outputs": [
    {
     "name": "stdout",
     "output_type": "stream",
     "text": [
      "[1 2 3 4]\n",
      "-a = [-1 -2 -3 -4]\n",
      "np.sum(a) = 10\n",
      "np.mean(a) = 2.5\n",
      "a**2 = [ 1  4  9 16]\n"
     ]
    }
   ],
   "source": [
    "\"\"\"\n",
    "Single vecotr operations.\n",
    "\"\"\"\n",
    "a = np.array([1, 2, 3, 4]); print(a)\n",
    "# Negitive Elements \n",
    "print(f\"-a = {-a}\")\n",
    "# Sum all elemetns of a \n",
    "print(f\"np.sum(a) = {np.sum(a)}\")\n",
    "# Find the mean\n",
    "print(f\"np.mean(a) = {np.mean(a)}\")\n",
    "# Square each value\n",
    "print(f\"a**2 = {a**2}\")"
   ]
  },
  {
   "cell_type": "code",
   "execution_count": 40,
   "id": "de8ea3ba",
   "metadata": {},
   "outputs": [
    {
     "name": "stdout",
     "output_type": "stream",
     "text": [
      "a + b = [0 0 6 8]\n",
      "Two different sized vectors gives us\n",
      "operands could not be broadcast together with shapes (4,) (2,) \n"
     ]
    }
   ],
   "source": [
    "\"\"\"\n",
    "Vector Vector (Element Wise Operations) \n",
    "\"\"\"\n",
    "# Data creation\n",
    "a = np.array([1, 2, 3, 4]) \n",
    "b = np.array([-1, -2, 3, 4])\n",
    "# Binary Operations work element wise\n",
    "# Addition\n",
    "print(f\"a + b = {a + b}\")\n",
    "# For this to work the vectors need to be of the same size\n",
    "c = np.array([4, 5])\n",
    "try:\n",
    "    d = a + c\n",
    "except Exception as e:\n",
    "    print(\"Two different sized vectors gives us this error:\")\n",
    "    print(e)"
   ]
  },
  {
   "cell_type": "code",
   "execution_count": 42,
   "id": "219725da",
   "metadata": {},
   "outputs": [
    {
     "name": "stdout",
     "output_type": "stream",
     "text": [
      "5 * a = [ 5 10 15 20]\n"
     ]
    }
   ],
   "source": [
    "\"\"\"\n",
    "Scalar vecotor operations\n",
    "\"\"\"\n",
    "# Data creation\n",
    "a = np.array([1, 2, 3, 4])\n",
    "\n",
    "print(f\"5 * a = {5 * a}\")"
   ]
  },
  {
   "cell_type": "code",
   "execution_count": 6,
   "id": "66b255a8",
   "metadata": {},
   "outputs": [
    {
     "name": "stdout",
     "output_type": "stream",
     "text": [
      "naive_dot(a, b) = 24\n"
     ]
    }
   ],
   "source": [
    "\"\"\"\n",
    "Vector Vector Dot-Product.\n",
    "\n",
    "The dot product multiplies the values of two vectors and sums the result. This means that the two vectors \n",
    "must be of the same size. Note that the dot product should return a scalar value.\n",
    "Below is a naive python implmentation.\n",
    "\"\"\"\n",
    "def naive_dot(a, b):\n",
    "    \"\"\"\n",
    "    Compute the dot product of two vectors \n",
    "    assuming they are the same size\n",
    "    \"\"\"\n",
    "    \n",
    "    x = 0\n",
    "    for i in range(a.shape[0]):\n",
    "        x = x + a[i] * b[i]\n",
    "    return x\n",
    "\n",
    "# Testing out naive_dot\n",
    "a = np.array([1, 2, 3, 4])\n",
    "b = np.array([-1, 4, 3, 2])\n",
    "\n",
    "print(f\"naive_dot(a, b) = {naive_dot(a, b)}\")"
   ]
  },
  {
   "cell_type": "code",
   "execution_count": 8,
   "id": "c3ef2a5e",
   "metadata": {},
   "outputs": [
    {
     "name": "stdout",
     "output_type": "stream",
     "text": [
      "np.dot(a, b) = 24\n"
     ]
    }
   ],
   "source": [
    "\"\"\"\n",
    "We can do the same using numpy, as shown below:\n",
    "\"\"\"\n",
    "# Same arrays as before\n",
    "a = np.array([1, 2, 3, 4])\n",
    "b = np.array([-1, 4, 3, 2])\n",
    "\n",
    "print(f\"np.dot(a, b) = {np.dot(a, b)}\")"
   ]
  },
  {
   "cell_type": "code",
   "execution_count": 19,
   "id": "ad055da3",
   "metadata": {},
   "outputs": [
    {
     "name": "stdout",
     "output_type": "stream",
     "text": [
      "Time for vectorised code is: 6.0031\n",
      "Time for vectorised code is: 3323.0011\n"
     ]
    }
   ],
   "source": [
    "\"\"\"\n",
    "A comparison check of the speed vectorized code vs for loop is tested out below:\n",
    "\"\"\"\n",
    "a = np.random.randn(10000000)\n",
    "b = np.random.randn(10000000)\n",
    "\n",
    "tic = time.time() # Start time of vectorized code\n",
    "c = np.dot(a, b)\n",
    "toc = time.time()  # End time of vectorized code\n",
    "print(f\"Time for vectorised code is: {1000*(toc-tic):.4f}\")\n",
    "\n",
    "tic = time.time() # Start time of vectorized code\n",
    "c = naive_dot(a, b)\n",
    "toc = time.time()  # End time of vectorized code\n",
    "print(f\"Time for vectorised code is: {1000*(toc-tic):.4f}\")\n"
   ]
  },
  {
   "cell_type": "code",
   "execution_count": 25,
   "id": "6b494e50",
   "metadata": {},
   "outputs": [
    {
     "name": "stdout",
     "output_type": "stream",
     "text": [
      "[[0. 0. 0. 0. 0.]]\n",
      "[[0.]\n",
      " [0.]]\n",
      "[[0.50240293]]\n",
      "[[5]\n",
      " [4]\n",
      " [3]]\n"
     ]
    }
   ],
   "source": [
    "\"\"\"\n",
    "Matrix Creation\n",
    "The same functions that are used to create 1D vectors can also be used to create nD arrays.\n",
    "Here are some examples:\n",
    "\"\"\"\n",
    "print(np.zeros((1, 5)))\n",
    "\n",
    "print(np.zeros((2, 1)))\n",
    "\n",
    "print(np.random.random_sample((1,1)))\n",
    "\n",
    "# These can also be used by manually specifying data.\n",
    "print(np.array(([5], [4], [3])))"
   ]
  },
  {
   "cell_type": "code",
   "execution_count": 31,
   "id": "d856350d",
   "metadata": {},
   "outputs": [
    {
     "name": "stdout",
     "output_type": "stream",
     "text": [
      "[[0 1]\n",
      " [2 3]\n",
      " [4 5]]\n",
      "a[2,0] = 4\n",
      "a[2] = [4 5]\n"
     ]
    }
   ],
   "source": [
    "\"\"\"\n",
    "Operations on Matrices\n",
    "- Indexing\n",
    "\"\"\"\n",
    "# Data creation\n",
    "a = np.arange(6).reshape(-1, 2)\n",
    "print(a)\n",
    "# Access and element\n",
    "print(f\"a[2,0] = {a[2,0]}\")\n",
    "\n",
    "# Access a row\n",
    "print(f\"a[2] = {a[2]}\")"
   ]
  },
  {
   "cell_type": "code",
   "execution_count": 39,
   "id": "c2e38ae1",
   "metadata": {},
   "outputs": [
    {
     "name": "stdout",
     "output_type": "stream",
     "text": [
      "[[ 0  1  2  3  4  5  6  7  8  9]\n",
      " [10 11 12 13 14 15 16 17 18 19]]\n",
      "a[0, 2:7:1] = [2 3 4 5 6]\n",
      "a[:, 2:7:1] = [[ 2  3  4  5  6]\n",
      " [12 13 14 15 16]]\n",
      "a[:,:] = [[ 0  1  2  3  4  5  6  7  8  9]\n",
      " [10 11 12 13 14 15 16 17 18 19]]\n",
      "a[1,:] = [10 11 12 13 14 15 16 17 18 19]\n",
      "a[1] = [10 11 12 13 14 15 16 17 18 19]\n"
     ]
    }
   ],
   "source": [
    "\"\"\"\n",
    "Operations on Matrices\n",
    "Slicing a matrices is similar to a vector, using the (START:STOP:STEP) method.\n",
    "- Slicing\n",
    "\"\"\"\n",
    "# Data creation\n",
    "a = np.arange(20).reshape(-1, 10)\n",
    "print(a)\n",
    "\n",
    "# Access 5 consecutive elements \n",
    "print(f\"a[0, 2:7:1] = {a[0, 2:7:1]}\")\n",
    "\n",
    "# Access 5 consecutive elements across two rows\n",
    "print(f\"a[:, 2:7:1] = {a[:, 2:7:1]}\")\n",
    "\n",
    "# Access all elements\n",
    "print(f\"a[:,:] = {a[:,:]}\")\n",
    "\n",
    "# Access all elements in row one\n",
    "print(f\"a[1,:] = {a[1,:]}\")\n",
    "# Same as\n",
    "print(f\"a[1] = {a[1]}\")\n"
   ]
  },
  {
   "cell_type": "code",
   "execution_count": null,
   "id": "077ae043",
   "metadata": {},
   "outputs": [],
   "source": []
  }
 ],
 "metadata": {
  "kernelspec": {
   "display_name": "Python 3 (ipykernel)",
   "language": "python",
   "name": "python3"
  },
  "language_info": {
   "codemirror_mode": {
    "name": "ipython",
    "version": 3
   },
   "file_extension": ".py",
   "mimetype": "text/x-python",
   "name": "python",
   "nbconvert_exporter": "python",
   "pygments_lexer": "ipython3",
   "version": "3.11.2"
  }
 },
 "nbformat": 4,
 "nbformat_minor": 5
}
