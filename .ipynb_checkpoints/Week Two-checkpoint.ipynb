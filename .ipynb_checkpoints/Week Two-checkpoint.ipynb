{
 "cells": [
  {
   "cell_type": "markdown",
   "id": "d26f10e0",
   "metadata": {},
   "source": [
    "### Multi-variant Linear Regression Analysis, Regression Model"
   ]
  },
  {
   "cell_type": "code",
   "execution_count": 1,
   "id": "b2c0226e",
   "metadata": {},
   "outputs": [],
   "source": [
    "# Usual Imports\n",
    "import numpy as np \n",
    "import time\n",
    "import matplotlib.pyplot as plt"
   ]
  },
  {
   "cell_type": "code",
   "execution_count": 12,
   "id": "1677a7c9",
   "metadata": {},
   "outputs": [
    {
     "name": "stdout",
     "output_type": "stream",
     "text": [
      "np.zeros(4): a = [0. 0. 0. 0.], a.shape = (4,), a data type = float64\n",
      "np.zeros((4,)): a = [0. 0. 0. 0.], a.shape = (4,), a data type = float64\n",
      "np.random.random_sample(4): a = [0.28468855 0.62932324 0.52452965 0.63475492], a.shape = (4,), a data type = float64\n",
      "np.arrange(4), [0 1 2 3] a.shape = (4,), a data type = int32\n",
      "np.random.randn(4), [-0.02387231 -0.03797087 -0.0096869   0.55262132] a.shape = (4,), a data type = float64\n",
      "np.array([1,2,3,4]), [1 2 3 4] a.shape = (4,), a data type = int32\n"
     ]
    }
   ],
   "source": [
    "\"\"\"\n",
    "Vector creation.\n",
    "\n",
    "These all create a one dimensional vector (a), each with four elements. This is seen through the use of \n",
    "a.shape.\n",
    "\"\"\"\n",
    "\n",
    "a = np.zeros(4); print(f\"np.zeros(4): a = {a}, a.shape = {a.shape}, a data type = {a.dtype}\")\n",
    "\n",
    "a = np.zeros((4,)); print(f\"np.zeros((4,)): a = {a}, a.shape = {a.shape}, a data type = {a.dtype}\")\n",
    "\n",
    "a = np.random.random_sample(4); print(f\"np.random.random_sample(4): a = {a}, a.shape = {a.shape}, a data type = {a.dtype}\")\n",
    "\n",
    "# Some data creation routines do not take a tuple, such as:\n",
    "a = np.arange(4); print(f\"np.arrange(4), {a} a.shape = {a.shape}, a data type = {a.dtype}\")\n",
    "\n",
    "a = np.random.randn(4); print(f\"np.random.randn(4), {a} a.shape = {a.shape}, a data type = {a.dtype}\")\n",
    "\n",
    "# Finally values can also be specified manually too:\n",
    "a = np.array([1,2,3,4]); print(f\"np.array([1,2,3,4]), {a} a.shape = {a.shape}, a data type = {a.dtype}\")"
   ]
  },
  {
   "cell_type": "code",
   "execution_count": 17,
   "id": "ffb21080",
   "metadata": {},
   "outputs": [
    {
     "name": "stdout",
     "output_type": "stream",
     "text": [
      "[0 1 2 3 4 5 6 7 8 9]\n",
      "a[2] = 2\n",
      "a[-1] = 9\n",
      "The error message you will see:\n",
      "index 10 is out of bounds for axis 0 with size 10\n"
     ]
    }
   ],
   "source": [
    "\"\"\"\n",
    "Operations on vectors.\n",
    "- Indexing\n",
    "\"\"\"\n",
    "# Data creation\n",
    "a = np.arange(10); print(a)\n",
    "# Access an element \n",
    "print(f\"a[2] = {a[2]}\")\n",
    "# Accessing the last element, negitive indexing works from the end\n",
    "print(f\"a[-1] = {a[-1]}\")\n",
    "# Indexs must be within the range of the vector or will return an error\n",
    "try:\n",
    "    c = a[10]\n",
    "except Exception as e:\n",
    "    print(\"The error message you will see:\")\n",
    "    print(e)"
   ]
  },
  {
   "cell_type": "code",
   "execution_count": 27,
   "id": "eb6ff3e5",
   "metadata": {},
   "outputs": [
    {
     "name": "stdout",
     "output_type": "stream",
     "text": [
      "a = [0 1 2 3 4 5 6 7 8 9]\n",
      "a[2:7:1] = [2 3 4 5 6]\n",
      "a[2:7:2] = [2 4 6]\n",
      "a[3:] = [3 4 5 6 7 8 9]\n",
      "a[:3] = [0 1 2]\n",
      "a[:] = [0 1 2 3 4 5 6 7 8 9]\n"
     ]
    }
   ],
   "source": [
    "\"\"\"\n",
    "Operations on vectors.\n",
    "- Slicing\n",
    "\"\"\"\n",
    "# Data creation\n",
    "a = np.arange(10); print(f\"a = {a}\")\n",
    "# Access 5 consecutive elements (START:STOP:STEP)\n",
    "print(f\"a[2:7:1] = {a[2:7:1]}\")\n",
    "# Access 3 elements seperated by 2\n",
    "print(f\"a[2:7:2] = {a[2:7:2]}\")\n",
    "# Access all elements index 3 and above\n",
    "print(f\"a[3:] = {a[3:]}\")\n",
    "# Access all elements below 3\n",
    "print(f\"a[:3] = {a[:3]}\")\n",
    "# Access all elements \n",
    "print(f\"a[:] = {a[:]}\")"
   ]
  },
  {
   "cell_type": "code",
   "execution_count": 35,
   "id": "f01f9f6a",
   "metadata": {},
   "outputs": [
    {
     "name": "stdout",
     "output_type": "stream",
     "text": [
      "[1 2 3 4]\n",
      "-a = [-1 -2 -3 -4]\n",
      "np.sum(a) = 10\n",
      "np.mean(a) = 2.5\n",
      "a**2 = [ 1  4  9 16]\n"
     ]
    }
   ],
   "source": [
    "\"\"\"\n",
    "Single vecotr operations.\n",
    "\"\"\"\n",
    "a = np.array([1, 2, 3, 4]); print(a)\n",
    "# Negitive Elements \n",
    "print(f\"-a = {-a}\")\n",
    "# Sum all elemetns of a \n",
    "print(f\"np.sum(a) = {np.sum(a)}\")\n",
    "# Find the mean\n",
    "print(f\"np.mean(a) = {np.mean(a)}\")\n",
    "# Square each value\n",
    "print(f\"a**2 = {a**2}\")"
   ]
  },
  {
   "cell_type": "code",
   "execution_count": 40,
   "id": "de8ea3ba",
   "metadata": {},
   "outputs": [
    {
     "name": "stdout",
     "output_type": "stream",
     "text": [
      "a + b = [0 0 6 8]\n",
      "Two different sized vectors gives us\n",
      "operands could not be broadcast together with shapes (4,) (2,) \n"
     ]
    }
   ],
   "source": [
    "\"\"\"\n",
    "Vector Vector (Element Wise Operations) \n",
    "\"\"\"\n",
    "# Data creation\n",
    "a = np.array([1, 2, 3, 4]) \n",
    "b = np.array([-1, -2, 3, 4])\n",
    "# Binary Operations work element wise\n",
    "# Addition\n",
    "print(f\"a + b = {a + b}\")\n",
    "# For this to work the vectors need to be of the same size\n",
    "c = np.array([4, 5])\n",
    "try:\n",
    "    d = a + c\n",
    "except Exception as e:\n",
    "    print(\"Two different sized vectors gives us this error:\")\n",
    "    print(e)"
   ]
  },
  {
   "cell_type": "code",
   "execution_count": 42,
   "id": "219725da",
   "metadata": {},
   "outputs": [
    {
     "name": "stdout",
     "output_type": "stream",
     "text": [
      "5 * a = [ 5 10 15 20]\n"
     ]
    }
   ],
   "source": [
    "\"\"\"\n",
    "Scalar vecotor operations\n",
    "\"\"\"\n",
    "# Data creation\n",
    "a = np.array([1, 2, 3, 4])\n",
    "\n",
    "print(f\"5 * a = {5 * a}\")"
   ]
  },
  {
   "cell_type": "code",
   "execution_count": 6,
   "id": "66b255a8",
   "metadata": {},
   "outputs": [
    {
     "name": "stdout",
     "output_type": "stream",
     "text": [
      "naive_dot(a, b) = 24\n"
     ]
    }
   ],
   "source": [
    "\"\"\"\n",
    "Vector Vector Dot-Product.\n",
    "\n",
    "The dot product multiplies the values of two vectors and sums the result. This means that the two vectors \n",
    "must be of the same size. Note that the dot product should return a scalar value.\n",
    "Below is a naive python implmentation.\n",
    "\"\"\"\n",
    "def naive_dot(a, b):\n",
    "    \"\"\"\n",
    "    Compute the dot product of two vectors \n",
    "    assuming they are the same size\n",
    "    \"\"\"\n",
    "    \n",
    "    x = 0\n",
    "    for i in range(a.shape[0]):\n",
    "        x = x + a[i] * b[i]\n",
    "    return x\n",
    "\n",
    "# Testing out naive_dot\n",
    "a = np.array([1, 2, 3, 4])\n",
    "b = np.array([-1, 4, 3, 2])\n",
    "\n",
    "print(f\"naive_dot(a, b) = {naive_dot(a, b)}\")"
   ]
  },
  {
   "cell_type": "code",
   "execution_count": 8,
   "id": "c3ef2a5e",
   "metadata": {},
   "outputs": [
    {
     "name": "stdout",
     "output_type": "stream",
     "text": [
      "np.dot(a, b) = 24\n"
     ]
    }
   ],
   "source": [
    "\"\"\"\n",
    "We can do the same using numpy, as shown below:\n",
    "\"\"\"\n",
    "# Same arrays as before\n",
    "a = np.array([1, 2, 3, 4])\n",
    "b = np.array([-1, 4, 3, 2])\n",
    "\n",
    "print(f\"np.dot(a, b) = {np.dot(a, b)}\")"
   ]
  },
  {
   "cell_type": "code",
   "execution_count": 19,
   "id": "ad055da3",
   "metadata": {},
   "outputs": [
    {
     "name": "stdout",
     "output_type": "stream",
     "text": [
      "Time for vectorised code is: 6.0031\n",
      "Time for vectorised code is: 3323.0011\n"
     ]
    }
   ],
   "source": [
    "\"\"\"\n",
    "A comparison check of the speed vectorized code vs for loop is tested out below:\n",
    "\"\"\"\n",
    "a = np.random.randn(10000000)\n",
    "b = np.random.randn(10000000)\n",
    "\n",
    "tic = time.time() # Start time of vectorized code\n",
    "c = np.dot(a, b)\n",
    "toc = time.time()  # End time of vectorized code\n",
    "print(f\"Time for vectorised code is: {1000*(toc-tic):.4f}\")\n",
    "\n",
    "tic = time.time() # Start time of vectorized code\n",
    "c = naive_dot(a, b)\n",
    "toc = time.time()  # End time of vectorized code\n",
    "print(f\"Time for vectorised code is: {1000*(toc-tic):.4f}\")\n"
   ]
  },
  {
   "cell_type": "code",
   "execution_count": 25,
   "id": "6b494e50",
   "metadata": {},
   "outputs": [
    {
     "name": "stdout",
     "output_type": "stream",
     "text": [
      "[[0. 0. 0. 0. 0.]]\n",
      "[[0.]\n",
      " [0.]]\n",
      "[[0.50240293]]\n",
      "[[5]\n",
      " [4]\n",
      " [3]]\n"
     ]
    }
   ],
   "source": [
    "\"\"\"\n",
    "Matrix Creation\n",
    "The same functions that are used to create 1D vectors can also be used to create nD arrays.\n",
    "Here are some examples:\n",
    "\"\"\"\n",
    "print(np.zeros((1, 5)))\n",
    "\n",
    "print(np.zeros((2, 1)))\n",
    "\n",
    "print(np.random.random_sample((1,1)))\n",
    "\n",
    "# These can also be used by manually specifying data.\n",
    "print(np.array(([5], [4], [3])))"
   ]
  },
  {
   "cell_type": "code",
   "execution_count": 31,
   "id": "d856350d",
   "metadata": {},
   "outputs": [
    {
     "name": "stdout",
     "output_type": "stream",
     "text": [
      "[[0 1]\n",
      " [2 3]\n",
      " [4 5]]\n",
      "a[2,0] = 4\n",
      "a[2] = [4 5]\n"
     ]
    }
   ],
   "source": [
    "\"\"\"\n",
    "Operations on Matrices\n",
    "- Indexing\n",
    "\"\"\"\n",
    "# Data creation\n",
    "a = np.arange(6).reshape(-1, 2)\n",
    "print(a)\n",
    "# Access and element\n",
    "print(f\"a[2,0] = {a[2,0]}\")\n",
    "\n",
    "# Access a row\n",
    "print(f\"a[2] = {a[2]}\")"
   ]
  },
  {
   "cell_type": "code",
   "execution_count": 39,
   "id": "c2e38ae1",
   "metadata": {},
   "outputs": [
    {
     "name": "stdout",
     "output_type": "stream",
     "text": [
      "[[ 0  1  2  3  4  5  6  7  8  9]\n",
      " [10 11 12 13 14 15 16 17 18 19]]\n",
      "a[0, 2:7:1] = [2 3 4 5 6]\n",
      "a[:, 2:7:1] = [[ 2  3  4  5  6]\n",
      " [12 13 14 15 16]]\n",
      "a[:,:] = [[ 0  1  2  3  4  5  6  7  8  9]\n",
      " [10 11 12 13 14 15 16 17 18 19]]\n",
      "a[1,:] = [10 11 12 13 14 15 16 17 18 19]\n",
      "a[1] = [10 11 12 13 14 15 16 17 18 19]\n"
     ]
    }
   ],
   "source": [
    "\"\"\"\n",
    "Operations on Matrices\n",
    "Slicing a matrices is similar to a vector, using the (START:STOP:STEP) method.\n",
    "- Slicing\n",
    "\"\"\"\n",
    "# Data creation\n",
    "a = np.arange(20).reshape(-1, 10)\n",
    "print(a)\n",
    "\n",
    "# Access 5 consecutive elements \n",
    "print(f\"a[0, 2:7:1] = {a[0, 2:7:1]}\")\n",
    "\n",
    "# Access 5 consecutive elements across two rows\n",
    "print(f\"a[:, 2:7:1] = {a[:, 2:7:1]}\")\n",
    "\n",
    "# Access all elements\n",
    "print(f\"a[:,:] = {a[:,:]}\")\n",
    "\n",
    "# Access all elements in row one\n",
    "print(f\"a[1,:] = {a[1,:]}\")\n",
    "# Same as\n",
    "print(f\"a[1] = {a[1]}\")\n"
   ]
  },
  {
   "cell_type": "code",
   "execution_count": 4,
   "id": "077ae043",
   "metadata": {},
   "outputs": [
    {
     "name": "stdout",
     "output_type": "stream",
     "text": [
      "x_train.shape[1] should equal, w_init.shape[0] 4 == 4\n"
     ]
    }
   ],
   "source": [
    "\"\"\"\n",
    "Multiple Varable Linear Regression.\n",
    "Problem statement:\n",
    "Same as the last example using housing prices, however this time there wil be three examples with four \n",
    "features (Size, bedrooms, floor and age).\n",
    "\"\"\"\n",
    "# Data creation\n",
    "x_train = np.array([[2104, 5, 1, 45], \n",
    "                    [1416, 3, 2, 40], \n",
    "                    [852, 2, 1, 35]])\n",
    "\n",
    "y_train = np.array([460, 232, 178])\n",
    "\n",
    "x_train.shape\n",
    "\n",
    "\"\"\"\n",
    "We will now make vector w which will be the same length as x_train has features. In our case four. As usual \n",
    "b will be a single scalar value.\n",
    "\"\"\"\n",
    "\n",
    "b_init = 785.1811367994083\n",
    "w_init = np.array([0.39133535, 18.75376741, -53.36032453, -26.42131618])\n",
    "\n",
    "print(f\"x_train.shape[1] should equal, w_init.shape[0] {x_train.shape[1]} == {w_init.shape[0]}\")\n"
   ]
  },
  {
   "cell_type": "code",
   "execution_count": 9,
   "id": "2b70383e",
   "metadata": {},
   "outputs": [
    {
     "name": "stdout",
     "output_type": "stream",
     "text": [
      "Prediction for the first row of data: 459.9999976194083\n"
     ]
    }
   ],
   "source": [
    "\"\"\"\n",
    "Model prediction with multiple variables. Before we only had one variable now we have four.\n",
    "Here we will create a function to calculate one predicted value based off one set of four variables.\n",
    "\"\"\"\n",
    "\n",
    "def predict(x, w, b):\n",
    "    n = x.shape[0]\n",
    "    f_wb = 0\n",
    "    for i in range(n):\n",
    "        p_i = w[i] * x[i]\n",
    "        f_wb += p_i\n",
    "    f_wb += b\n",
    "    return f_wb\n",
    "\n",
    "# Testing this function out on one row of data.\n",
    "vector_x = x_train[0,:]\n",
    "\n",
    "# Make a prediction\n",
    "f_wb = predict(vector_x, w_init, b_init)\n",
    "print(f\"Prediction for the first row of data: {f_wb}\")"
   ]
  },
  {
   "cell_type": "code",
   "execution_count": 12,
   "id": "3e609e65",
   "metadata": {},
   "outputs": [
    {
     "name": "stdout",
     "output_type": "stream",
     "text": [
      "Prediction for first row of data using numpy: 459.9999976194083\n"
     ]
    }
   ],
   "source": [
    "\"\"\"\n",
    "The next evolution of this is do perform a single prediction using vectorization and numpy.\n",
    "This is show below:\n",
    "\"\"\"\n",
    "\n",
    "def predict(x, w, b):\n",
    "    f_wb = np.dot(x, w) + b\n",
    "    return f_wb\n",
    "\n",
    "# Testing on the same example as last function  to ensure its the same.\n",
    "f_wb = predict(vector_x, w_init, b_init)\n",
    "print(f\"Prediction for first row of data using numpy: {f_wb}\")"
   ]
  },
  {
   "cell_type": "code",
   "execution_count": 21,
   "id": "5c36220e",
   "metadata": {},
   "outputs": [],
   "source": [
    "\"\"\"\n",
    "Computing the cost with mutiple variables. This is much the same as before the only thing that changes is\n",
    "the equation to find the predictied value, but we are to expect that.\n",
    "\"\"\"\n",
    "\n",
    "def compute_cost(X, y, w, b):\n",
    "    m = X.shape[0]\n",
    "    cost = 0\n",
    "    for i in range(m):\n",
    "        f_wb = np.dot(X[i], w) + b\n",
    "        cost += (f_wb - y[i]) ** 2\n",
    "    return cost / (2 * m) "
   ]
  },
  {
   "cell_type": "code",
   "execution_count": 22,
   "id": "6a88cf16",
   "metadata": {},
   "outputs": [
    {
     "name": "stdout",
     "output_type": "stream",
     "text": [
      "Cost at optimal w : 1.5578904428966628e-12\n"
     ]
    }
   ],
   "source": [
    "cost = compute_cost(x_train, y_train, w_init, b_init)\n",
    "print(f'Cost at optimal w : {cost}')"
   ]
  },
  {
   "cell_type": "markdown",
   "id": "8a3d50b5",
   "metadata": {},
   "source": [
    "#### Computing Gradients of the cost function for paramaters w and b"
   ]
  },
  {
   "cell_type": "code",
   "execution_count": 37,
   "id": "709f8f0d",
   "metadata": {},
   "outputs": [
    {
     "name": "stdout",
     "output_type": "stream",
     "text": [
      "dj_dw: [-2.72623577e-03 -6.27197263e-06 -2.21745578e-06 -6.92403391e-05]\n",
      "dj_db: -1.6739251501955248e-06\n"
     ]
    }
   ],
   "source": [
    "def compute_gradient(X, y, w, b):\n",
    "    \"\"\"\n",
    "    Computes the gradient with multiple variables.\n",
    "    Args:\n",
    "    X - the features(m,n).\n",
    "    y - our true labeled outputs(m,).\n",
    "    w - weights array(n,).\n",
    "    b - baise (scalar).\n",
    "    Returns:\n",
    "    dj_dw - Gradient of the cost for paramater w.\n",
    "    dj_db - Gradient of the cost for paramater b. \n",
    "    \"\"\"\n",
    "    m,n = X.shape\n",
    "    dj_dw = np.zeros((n,))\n",
    "    dj_db = 0\n",
    "    for i in range(m):\n",
    "        error = (np.dot(X[i], w) + b) - y[i]\n",
    "        for j in range(n):\n",
    "            dj_dw[j] = dj_dw[j] + error * X[i, j]\n",
    "        dj_db = dj_db + error\n",
    "    dj_dw = dj_dw / m\n",
    "    dj_db = dj_db /  m\n",
    "    \n",
    "    return dj_dw, dj_db\n",
    "\n",
    "# Testing gradient funciton\n",
    "tmp_dj_dw, tmp_dj_db = compute_gradient(x_train, y_train, w_init, b_init)\n",
    "print(f\"dj_dw: {tmp_dj_dw}\")\n",
    "print(f\"dj_db: {tmp_dj_db}\")\n"
   ]
  },
  {
   "cell_type": "markdown",
   "id": "73bb7468",
   "metadata": {},
   "source": [
    "##### Performing Gradient Descent with multiple variables"
   ]
  },
  {
   "cell_type": "code",
   "execution_count": null,
   "id": "e89cfa14",
   "metadata": {},
   "outputs": [],
   "source": [
    "def graident_descent():\n",
    "    \"\"\"\n",
    "    Performs gradient Descent to learn the best values for the parameters of w and b. By taking \n",
    "    num_gradient steps of size alpha (The learning rate).\n",
    "    Args:\n",
    "    x -\n",
    "    y -\n",
    "    w - \n",
    "    b -\n",
    "    cost_function -\n",
    "    gradient_function - \n",
    "    num_iterations -\n",
    "    alpha - \n",
    "    Returns:\n",
    "    w - \n",
    "    b -\n",
    "    \"\"\""
   ]
  }
 ],
 "metadata": {
  "kernelspec": {
   "display_name": "Python 3 (ipykernel)",
   "language": "python",
   "name": "python3"
  },
  "language_info": {
   "codemirror_mode": {
    "name": "ipython",
    "version": 3
   },
   "file_extension": ".py",
   "mimetype": "text/x-python",
   "name": "python",
   "nbconvert_exporter": "python",
   "pygments_lexer": "ipython3",
   "version": "3.11.2"
  }
 },
 "nbformat": 4,
 "nbformat_minor": 5
}
