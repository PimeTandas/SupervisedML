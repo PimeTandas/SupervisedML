{
 "cells": [
  {
   "cell_type": "markdown",
   "id": "45728c5f-2a02-4ab8-8e85-8c1f3dba2379",
   "metadata": {},
   "source": [
    "### Logistical Regression"
   ]
  },
  {
   "cell_type": "code",
   "execution_count": 1,
   "id": "c3ec1919-db2a-4442-b0bc-71fdb411fa7e",
   "metadata": {},
   "outputs": [],
   "source": [
    "# lets define some data"
   ]
  },
  {
   "cell_type": "code",
   "execution_count": 2,
   "id": "ae944560-7b87-4a2e-89d8-d8b41e9ad450",
   "metadata": {},
   "outputs": [],
   "source": [
    "import numpy as np"
   ]
  },
  {
   "cell_type": "code",
   "execution_count": 132,
   "id": "4d20eeb9-e097-418b-94f2-8bd758c0ced8",
   "metadata": {},
   "outputs": [],
   "source": [
    "X_train = np.array([[0.5, 1.5], [1,1], [1.5, 0.5], [3, 0.5], [2, 2], [1, 2.5]]) \n",
    "y_train = np.array([0, 0, 0, 1, 1, 1])             "
   ]
  },
  {
   "cell_type": "code",
   "execution_count": 108,
   "id": "8bf211fc-a8c0-45cc-9e7c-d5da10a5165d",
   "metadata": {},
   "outputs": [
    {
     "name": "stdout",
     "output_type": "stream",
     "text": [
      "6 2\n"
     ]
    }
   ],
   "source": [
    "m, n = X_train.shape\n",
    "print(m, n)"
   ]
  },
  {
   "cell_type": "code",
   "execution_count": 113,
   "id": "338ae972-74a9-47a1-b039-b0ec37dbb773",
   "metadata": {},
   "outputs": [
    {
     "name": "stdout",
     "output_type": "stream",
     "text": [
      "[1.5 0.5]\n"
     ]
    }
   ],
   "source": [
    "print(X_train[2] * )"
   ]
  },
  {
   "cell_type": "code",
   "execution_count": 114,
   "id": "02149675-21cd-4eb7-9675-9c8b68880cd2",
   "metadata": {},
   "outputs": [],
   "source": [
    "\"\"\"\n",
    "Computing Z (Linear Regression).\n",
    "\"\"\"\n",
    "\n",
    "def compute_linear_regression(X, w, b):\n",
    "    m, n = X.shape\n",
    "    f_wb = np.zeros(m)\n",
    "    for i in range(m):\n",
    "        f_wb[i] = np.dot(X[i], w) + b\n",
    "    return f_wb"
   ]
  },
  {
   "cell_type": "code",
   "execution_count": 102,
   "id": "979f41e7-2bd1-46d7-b565-278017fd4ec5",
   "metadata": {},
   "outputs": [],
   "source": [
    "\"\"\"\n",
    "Compute the sigmoid function.\n",
    "\"\"\"\n",
    "\n",
    "def compute_sigmoid(z):\n",
    "    g = 1 / (1 + np.exp(-z))\n",
    "    return g"
   ]
  },
  {
   "cell_type": "code",
   "execution_count": 103,
   "id": "1665adea-d66a-4776-8266-e69a6fdcc71b",
   "metadata": {},
   "outputs": [],
   "source": [
    "\"\"\"\n",
    "Compute the cost of logistic regression.\n",
    "\"\"\"\n",
    "def compute_cost(X, y):\n",
    "    m = X.shape[0]\n",
    "    cost = 0\n",
    "    for i in range(m):\n",
    "        cost +=  -y[i]*np.log(X[i]) - (1-y[i])*np.log(1-X[i])\n",
    "    cost = cost / m\n",
    "    return cost"
   ]
  },
  {
   "cell_type": "markdown",
   "id": "a18e7831-4c47-41c3-a985-fbbbaccb443e",
   "metadata": {},
   "source": [
    "Lets test out our compute functions so far..."
   ]
  },
  {
   "cell_type": "code",
   "execution_count": 115,
   "id": "6b072084-5e39-4820-bdbc-147136c41933",
   "metadata": {},
   "outputs": [
    {
     "name": "stdout",
     "output_type": "stream",
     "text": [
      "[-1.  -1.  -1.   0.5  1.   0.5]\n",
      "[0.26894142 0.26894142 0.26894142 0.62245933 0.73105858 0.62245933]\n"
     ]
    }
   ],
   "source": [
    "w_tmp = np.array([1,1])\n",
    "b_tmp = -3\n",
    "z = compute_linear_regression(X_train, w_tmp, b_tmp)\n",
    "print(z)\n",
    "g = compute_sigmoid(z)\n",
    "print(g)\n",
    "cost = compute_cost(g, y_train)"
   ]
  },
  {
   "cell_type": "code",
   "execution_count": 116,
   "id": "6aa9435e-ffd0-4982-90c3-000880073049",
   "metadata": {},
   "outputs": [
    {
     "name": "stdout",
     "output_type": "stream",
     "text": [
      "0.36686678640551745\n"
     ]
    }
   ],
   "source": [
    "print(cost)"
   ]
  },
  {
   "cell_type": "markdown",
   "id": "a08a6155-f13a-4f75-84a8-6b443eabe7f5",
   "metadata": {},
   "source": [
    "Gradient Descent is eactly the same as it was for linear regression."
   ]
  },
  {
   "cell_type": "code",
   "execution_count": 152,
   "id": "7d728004-b82c-4f56-b96c-7ae9de096e58",
   "metadata": {},
   "outputs": [],
   "source": [
    "\"\"\"\n",
    "Compute Gradient\n",
    "\"\"\"\n",
    "\n",
    "def compute_gradient(X, y, w, b):\n",
    "    m, n = X.shape\n",
    "    dw = np.zeros((n,))\n",
    "    db = 0\n",
    "    for i in range(m):\n",
    "        yhat = compute_linear_regression(X, w, b)\n",
    "        g = compute_sigmoid(yhat)\n",
    "        error = g[i] - y[i]\n",
    "        for j in range(n):\n",
    "            dw[j] = dw[j] + error * X[i, j]\n",
    "        db += error\n",
    "    db /= m\n",
    "    dw /= m\n",
    "    \n",
    "    return dw, db"
   ]
  },
  {
   "cell_type": "code",
   "execution_count": 153,
   "id": "40e1fc9c-73d1-4c40-80ea-620fc58ba78b",
   "metadata": {},
   "outputs": [
    {
     "name": "stdout",
     "output_type": "stream",
     "text": [
      "dj_db: [0.49833339 0.49883943]\n",
      "dj_dw: 0.49861806546328574\n"
     ]
    }
   ],
   "source": [
    "dj_db_tmp, dj_dw_tmp = compute_gradient(X_train, y_train, w_tmp, b_tmp)\n",
    "print(f\"dj_db: {dj_db_tmp}\" )\n",
    "print(f\"dj_dw: {dj_dw_tmp.tolist()}\" )"
   ]
  },
  {
   "cell_type": "code",
   "execution_count": null,
   "id": "b7031ad6-a2ad-4ebb-b459-6c0694d51e2a",
   "metadata": {},
   "outputs": [],
   "source": []
  }
 ],
 "metadata": {
  "kernelspec": {
   "display_name": "Python 3 (ipykernel)",
   "language": "python",
   "name": "python3"
  },
  "language_info": {
   "codemirror_mode": {
    "name": "ipython",
    "version": 3
   },
   "file_extension": ".py",
   "mimetype": "text/x-python",
   "name": "python",
   "nbconvert_exporter": "python",
   "pygments_lexer": "ipython3",
   "version": "3.11.5"
  }
 },
 "nbformat": 4,
 "nbformat_minor": 5
}
